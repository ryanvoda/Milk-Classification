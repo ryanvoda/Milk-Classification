{
 "cells": [
  {
   "cell_type": "markdown",
   "id": "e20d0b8d",
   "metadata": {},
   "source": [
    "# Milk Classification Project"
   ]
  },
  {
   "cell_type": "markdown",
   "id": "85a787b9",
   "metadata": {},
   "source": [
    "Import all packages, prepare our dataframe using kaggle dataset from https://www.kaggle.com/datasets/cpluzshrijayan/milkquality"
   ]
  },
  {
   "cell_type": "code",
   "execution_count": 1,
   "id": "5a563294",
   "metadata": {},
   "outputs": [
    {
     "data": {
      "text/html": [
       "<div>\n",
       "<style scoped>\n",
       "    .dataframe tbody tr th:only-of-type {\n",
       "        vertical-align: middle;\n",
       "    }\n",
       "\n",
       "    .dataframe tbody tr th {\n",
       "        vertical-align: top;\n",
       "    }\n",
       "\n",
       "    .dataframe thead th {\n",
       "        text-align: right;\n",
       "    }\n",
       "</style>\n",
       "<table border=\"1\" class=\"dataframe\">\n",
       "  <thead>\n",
       "    <tr style=\"text-align: right;\">\n",
       "      <th></th>\n",
       "      <th>pH</th>\n",
       "      <th>Temprature</th>\n",
       "      <th>Taste</th>\n",
       "      <th>Odor</th>\n",
       "      <th>Fat</th>\n",
       "      <th>Turbidity</th>\n",
       "      <th>Colour</th>\n",
       "      <th>Grade</th>\n",
       "    </tr>\n",
       "  </thead>\n",
       "  <tbody>\n",
       "    <tr>\n",
       "      <th>0</th>\n",
       "      <td>6.6</td>\n",
       "      <td>35</td>\n",
       "      <td>1</td>\n",
       "      <td>0</td>\n",
       "      <td>1</td>\n",
       "      <td>0</td>\n",
       "      <td>254</td>\n",
       "      <td>high</td>\n",
       "    </tr>\n",
       "    <tr>\n",
       "      <th>1</th>\n",
       "      <td>6.6</td>\n",
       "      <td>36</td>\n",
       "      <td>0</td>\n",
       "      <td>1</td>\n",
       "      <td>0</td>\n",
       "      <td>1</td>\n",
       "      <td>253</td>\n",
       "      <td>high</td>\n",
       "    </tr>\n",
       "    <tr>\n",
       "      <th>2</th>\n",
       "      <td>8.5</td>\n",
       "      <td>70</td>\n",
       "      <td>1</td>\n",
       "      <td>1</td>\n",
       "      <td>1</td>\n",
       "      <td>1</td>\n",
       "      <td>246</td>\n",
       "      <td>low</td>\n",
       "    </tr>\n",
       "    <tr>\n",
       "      <th>3</th>\n",
       "      <td>9.5</td>\n",
       "      <td>34</td>\n",
       "      <td>1</td>\n",
       "      <td>1</td>\n",
       "      <td>0</td>\n",
       "      <td>1</td>\n",
       "      <td>255</td>\n",
       "      <td>low</td>\n",
       "    </tr>\n",
       "    <tr>\n",
       "      <th>4</th>\n",
       "      <td>6.6</td>\n",
       "      <td>37</td>\n",
       "      <td>0</td>\n",
       "      <td>0</td>\n",
       "      <td>0</td>\n",
       "      <td>0</td>\n",
       "      <td>255</td>\n",
       "      <td>medium</td>\n",
       "    </tr>\n",
       "  </tbody>\n",
       "</table>\n",
       "</div>"
      ],
      "text/plain": [
       "    pH  Temprature  Taste  Odor  Fat   Turbidity  Colour   Grade\n",
       "0  6.6          35      1     0     1          0     254    high\n",
       "1  6.6          36      0     1     0          1     253    high\n",
       "2  8.5          70      1     1     1          1     246     low\n",
       "3  9.5          34      1     1     0          1     255     low\n",
       "4  6.6          37      0     0     0          0     255  medium"
      ]
     },
     "execution_count": 1,
     "metadata": {},
     "output_type": "execute_result"
    }
   ],
   "source": [
    "import numpy as np\n",
    "import pandas as pd\n",
    "import seaborn as sns\n",
    "import matplotlib.pyplot as plt\n",
    "from sklearn.preprocessing import LabelEncoder\n",
    "from sklearn.model_selection import train_test_split\n",
    "from sklearn.linear_model import LogisticRegression\n",
    "from sklearn.model_selection import cross_val_score\n",
    "from sklearn.feature_selection import VarianceThreshold\n",
    "from sklearn.feature_selection import chi2, SelectKBest,SelectPercentile, f_classif\n",
    "from sklearn.tree import DecisionTreeClassifier\n",
    "from sklearn.metrics import classification_report\n",
    "from sklearn.model_selection import GridSearchCV\n",
    "from sklearn.ensemble import RandomForestClassifier\n",
    "from imblearn.over_sampling import SMOTE\n",
    "from sklearn.preprocessing import MinMaxScaler\n",
    "from sklearn.svm import SVC\n",
    "from sklearn.metrics import plot_confusion_matrix\n",
    "from sklearn.metrics import confusion_matrix, accuracy_score, classification_report\n",
    "\n",
    "df = pd.read_csv(r'C:\\Users\\ryvo1\\Downloads\\milknew.csv')\n",
    "df.head()"
   ]
  },
  {
   "cell_type": "markdown",
   "id": "a86daf42",
   "metadata": {},
   "source": [
    "Now, check for null values:"
   ]
  },
  {
   "cell_type": "code",
   "execution_count": 2,
   "id": "f1223310",
   "metadata": {},
   "outputs": [
    {
     "name": "stdout",
     "output_type": "stream",
     "text": [
      "<class 'pandas.core.frame.DataFrame'>\n",
      "RangeIndex: 1059 entries, 0 to 1058\n",
      "Data columns (total 8 columns):\n",
      " #   Column      Non-Null Count  Dtype  \n",
      "---  ------      --------------  -----  \n",
      " 0   pH          1059 non-null   float64\n",
      " 1   Temprature  1059 non-null   int64  \n",
      " 2   Taste       1059 non-null   int64  \n",
      " 3   Odor        1059 non-null   int64  \n",
      " 4   Fat         1059 non-null   int64  \n",
      " 5   Turbidity   1059 non-null   int64  \n",
      " 6   Colour      1059 non-null   int64  \n",
      " 7   Grade       1059 non-null   object \n",
      "dtypes: float64(1), int64(6), object(1)\n",
      "memory usage: 66.3+ KB\n"
     ]
    }
   ],
   "source": [
    "df.info()"
   ]
  },
  {
   "cell_type": "code",
   "execution_count": 3,
   "id": "6658440e",
   "metadata": {},
   "outputs": [
    {
     "data": {
      "text/plain": [
       "(1059, 8)"
      ]
     },
     "execution_count": 3,
     "metadata": {},
     "output_type": "execute_result"
    }
   ],
   "source": [
    "df.shape"
   ]
  },
  {
   "cell_type": "markdown",
   "id": "0f05996e",
   "metadata": {},
   "source": [
    "Therefore, df does not contain any null values."
   ]
  },
  {
   "cell_type": "markdown",
   "id": "c35ae5de",
   "metadata": {},
   "source": [
    "### Train/Test Split"
   ]
  },
  {
   "cell_type": "markdown",
   "id": "9c684f88",
   "metadata": {},
   "source": [
    "We want to make a prediction model for the variable 'Grade', so we isolate it as our y variable:"
   ]
  },
  {
   "cell_type": "code",
   "execution_count": 4,
   "id": "19ab088a",
   "metadata": {},
   "outputs": [
    {
     "data": {
      "text/plain": [
       "low       429\n",
       "medium    374\n",
       "high      256\n",
       "Name: Grade, dtype: int64"
      ]
     },
     "execution_count": 4,
     "metadata": {},
     "output_type": "execute_result"
    }
   ],
   "source": [
    "x = df.drop(columns='Grade')\n",
    "y = df['Grade']\n",
    "y.value_counts()"
   ]
  },
  {
   "cell_type": "markdown",
   "id": "36537104",
   "metadata": {},
   "source": [
    "Since we have an imbalance, we'll use SMOTE to randomly increase minority classes (medium and high, in this case), so we don't experience oversampling:"
   ]
  },
  {
   "cell_type": "code",
   "execution_count": 5,
   "id": "37c6c573",
   "metadata": {},
   "outputs": [
    {
     "data": {
      "text/plain": [
       "high      429\n",
       "low       429\n",
       "medium    429\n",
       "Name: Grade, dtype: int64"
      ]
     },
     "execution_count": 5,
     "metadata": {},
     "output_type": "execute_result"
    }
   ],
   "source": [
    "bettersample = SMOTE(random_state=0)\n",
    "x, y = bettersample.fit_resample(x,y)\n",
    "y.value_counts()"
   ]
  },
  {
   "cell_type": "markdown",
   "id": "4498ebd1",
   "metadata": {},
   "source": [
    "Now, we just normalize our values, and perform our train/test split:"
   ]
  },
  {
   "cell_type": "code",
   "execution_count": 6,
   "id": "91dbc58d",
   "metadata": {},
   "outputs": [],
   "source": [
    "scaler = MinMaxScaler()\n",
    "x = scaler.fit_transform(x)\n",
    "x_train, x_test, y_train, y_test = train_test_split(x,y,test_size=0.20,random_state=0)"
   ]
  },
  {
   "cell_type": "markdown",
   "id": "5e27c427",
   "metadata": {},
   "source": [
    "### Feature Selection"
   ]
  },
  {
   "cell_type": "markdown",
   "id": "c2ad42f0",
   "metadata": {},
   "source": [
    "Models often perform better when only using a few key variables, which we will see if we can find."
   ]
  },
  {
   "cell_type": "markdown",
   "id": "d49987e0",
   "metadata": {},
   "source": [
    "Let's look for variables which are significant in predicting milk grade:"
   ]
  },
  {
   "cell_type": "code",
   "execution_count": 7,
   "id": "c618e81a",
   "metadata": {},
   "outputs": [
    {
     "data": {
      "text/html": [
       "<div>\n",
       "<style scoped>\n",
       "    .dataframe tbody tr th:only-of-type {\n",
       "        vertical-align: middle;\n",
       "    }\n",
       "\n",
       "    .dataframe tbody tr th {\n",
       "        vertical-align: top;\n",
       "    }\n",
       "\n",
       "    .dataframe thead th {\n",
       "        text-align: right;\n",
       "    }\n",
       "</style>\n",
       "<table border=\"1\" class=\"dataframe\">\n",
       "  <thead>\n",
       "    <tr style=\"text-align: right;\">\n",
       "      <th></th>\n",
       "      <th>pH</th>\n",
       "      <th>Temprature</th>\n",
       "      <th>Taste</th>\n",
       "      <th>Odor</th>\n",
       "      <th>Fat</th>\n",
       "      <th>Turbidity</th>\n",
       "      <th>Colour</th>\n",
       "    </tr>\n",
       "  </thead>\n",
       "  <tbody>\n",
       "    <tr>\n",
       "      <th>pH</th>\n",
       "      <td>1.000000</td>\n",
       "      <td>0.244684</td>\n",
       "      <td>-0.064053</td>\n",
       "      <td>-0.081331</td>\n",
       "      <td>-0.093429</td>\n",
       "      <td>0.048384</td>\n",
       "      <td>-0.164565</td>\n",
       "    </tr>\n",
       "    <tr>\n",
       "      <th>Temprature</th>\n",
       "      <td>0.244684</td>\n",
       "      <td>1.000000</td>\n",
       "      <td>-0.109792</td>\n",
       "      <td>-0.048870</td>\n",
       "      <td>0.024073</td>\n",
       "      <td>0.185106</td>\n",
       "      <td>-0.008511</td>\n",
       "    </tr>\n",
       "    <tr>\n",
       "      <th>Taste</th>\n",
       "      <td>-0.064053</td>\n",
       "      <td>-0.109792</td>\n",
       "      <td>1.000000</td>\n",
       "      <td>0.017582</td>\n",
       "      <td>0.324149</td>\n",
       "      <td>0.055755</td>\n",
       "      <td>-0.082654</td>\n",
       "    </tr>\n",
       "    <tr>\n",
       "      <th>Odor</th>\n",
       "      <td>-0.081331</td>\n",
       "      <td>-0.048870</td>\n",
       "      <td>0.017582</td>\n",
       "      <td>1.000000</td>\n",
       "      <td>0.314505</td>\n",
       "      <td>0.457935</td>\n",
       "      <td>-0.039361</td>\n",
       "    </tr>\n",
       "    <tr>\n",
       "      <th>Fat</th>\n",
       "      <td>-0.093429</td>\n",
       "      <td>0.024073</td>\n",
       "      <td>0.324149</td>\n",
       "      <td>0.314505</td>\n",
       "      <td>1.000000</td>\n",
       "      <td>0.329264</td>\n",
       "      <td>0.114151</td>\n",
       "    </tr>\n",
       "    <tr>\n",
       "      <th>Turbidity</th>\n",
       "      <td>0.048384</td>\n",
       "      <td>0.185106</td>\n",
       "      <td>0.055755</td>\n",
       "      <td>0.457935</td>\n",
       "      <td>0.329264</td>\n",
       "      <td>1.000000</td>\n",
       "      <td>0.136436</td>\n",
       "    </tr>\n",
       "    <tr>\n",
       "      <th>Colour</th>\n",
       "      <td>-0.164565</td>\n",
       "      <td>-0.008511</td>\n",
       "      <td>-0.082654</td>\n",
       "      <td>-0.039361</td>\n",
       "      <td>0.114151</td>\n",
       "      <td>0.136436</td>\n",
       "      <td>1.000000</td>\n",
       "    </tr>\n",
       "  </tbody>\n",
       "</table>\n",
       "</div>"
      ],
      "text/plain": [
       "                  pH  Temprature     Taste      Odor      Fat   Turbidity  \\\n",
       "pH          1.000000    0.244684 -0.064053 -0.081331 -0.093429   0.048384   \n",
       "Temprature  0.244684    1.000000 -0.109792 -0.048870  0.024073   0.185106   \n",
       "Taste      -0.064053   -0.109792  1.000000  0.017582  0.324149   0.055755   \n",
       "Odor       -0.081331   -0.048870  0.017582  1.000000  0.314505   0.457935   \n",
       "Fat        -0.093429    0.024073  0.324149  0.314505  1.000000   0.329264   \n",
       "Turbidity   0.048384    0.185106  0.055755  0.457935  0.329264   1.000000   \n",
       "Colour     -0.164565   -0.008511 -0.082654 -0.039361  0.114151   0.136436   \n",
       "\n",
       "              Colour  \n",
       "pH         -0.164565  \n",
       "Temprature -0.008511  \n",
       "Taste      -0.082654  \n",
       "Odor       -0.039361  \n",
       "Fat         0.114151  \n",
       "Turbidity   0.136436  \n",
       "Colour      1.000000  "
      ]
     },
     "execution_count": 7,
     "metadata": {},
     "output_type": "execute_result"
    }
   ],
   "source": [
    "df.corr()"
   ]
  },
  {
   "cell_type": "code",
   "execution_count": 8,
   "id": "b0681587",
   "metadata": {},
   "outputs": [
    {
     "data": {
      "image/png": "[encoded data removed]",
      "text/plain": [
       "<Figure size 432x288 with 2 Axes>"
      ]
     },
     "metadata": {
      "needs_background": "light"
     },
     "output_type": "display_data"
    }
   ],
   "source": [
    "corr = df.corr()\n",
    "sns.heatmap(corr[(corr >= 0.3) | (corr <= -0.3)], \n",
    "            cmap='viridis', annot=True, annot_kws={\"size\": 8}, square=True);"
   ]
  },
  {
   "cell_type": "markdown",
   "id": "1e384e85",
   "metadata": {},
   "source": [
    "Now we have an idea of which variables might be useful, but let's perform multiple tests and cross-validation:"
   ]
  },
  {
   "cell_type": "markdown",
   "id": "5556ccfb",
   "metadata": {},
   "source": [
    "#### Test 1: Chi-Squared"
   ]
  },
  {
   "cell_type": "markdown",
   "id": "e3e02c56",
   "metadata": {},
   "source": [
    "https://scikit-learn.org/stable/modules/generated/sklearn.feature_selection.chi2.html#sklearn.feature_selection.chi2\n",
    "\n",
    "\"Recall that the chi-square test measures dependence between stochastic variables, so using this function 'weeds out' the features that are the most likely to be independent of class and therefore irrelevant for classification.\""
   ]
  },
  {
   "cell_type": "code",
   "execution_count": 9,
   "id": "0bab7a40",
   "metadata": {},
   "outputs": [
    {
     "data": {
      "text/html": [
       "<div>\n",
       "<style scoped>\n",
       "    .dataframe tbody tr th:only-of-type {\n",
       "        vertical-align: middle;\n",
       "    }\n",
       "\n",
       "    .dataframe tbody tr th {\n",
       "        vertical-align: top;\n",
       "    }\n",
       "\n",
       "    .dataframe thead th {\n",
       "        text-align: right;\n",
       "    }\n",
       "</style>\n",
       "<table border=\"1\" class=\"dataframe\">\n",
       "  <thead>\n",
       "    <tr style=\"text-align: right;\">\n",
       "      <th></th>\n",
       "      <th>features</th>\n",
       "      <th>scores</th>\n",
       "    </tr>\n",
       "  </thead>\n",
       "  <tbody>\n",
       "    <tr>\n",
       "      <th>5</th>\n",
       "      <td>Turbidity</td>\n",
       "      <td>176.612245</td>\n",
       "    </tr>\n",
       "    <tr>\n",
       "      <th>3</th>\n",
       "      <td>Odor</td>\n",
       "      <td>143.136134</td>\n",
       "    </tr>\n",
       "    <tr>\n",
       "      <th>4</th>\n",
       "      <td>Fat</td>\n",
       "      <td>114.145695</td>\n",
       "    </tr>\n",
       "    <tr>\n",
       "      <th>1</th>\n",
       "      <td>Temprature</td>\n",
       "      <td>53.486398</td>\n",
       "    </tr>\n",
       "    <tr>\n",
       "      <th>2</th>\n",
       "      <td>Taste</td>\n",
       "      <td>22.388350</td>\n",
       "    </tr>\n",
       "    <tr>\n",
       "      <th>6</th>\n",
       "      <td>Colour</td>\n",
       "      <td>11.012380</td>\n",
       "    </tr>\n",
       "    <tr>\n",
       "      <th>0</th>\n",
       "      <td>pH</td>\n",
       "      <td>0.102586</td>\n",
       "    </tr>\n",
       "  </tbody>\n",
       "</table>\n",
       "</div>"
      ],
      "text/plain": [
       "     features      scores\n",
       "5   Turbidity  176.612245\n",
       "3        Odor  143.136134\n",
       "4        Fat   114.145695\n",
       "1  Temprature   53.486398\n",
       "2       Taste   22.388350\n",
       "6      Colour   11.012380\n",
       "0          pH    0.102586"
      ]
     },
     "execution_count": 9,
     "metadata": {},
     "output_type": "execute_result"
    }
   ],
   "source": [
    "from sklearn.feature_selection import chi2, SelectKBest\n",
    "chi_best_col = SelectKBest(chi2,k='all')\n",
    "kbest = chi_best_col.fit_transform(x,y)\n",
    "pd.DataFrame(list(zip(df.drop(columns='Grade').columns,chi_best_col.scores_)),columns=['features','scores']).sort_values(by='scores',ascending=False)"
   ]
  },
  {
   "cell_type": "markdown",
   "id": "ad179ff9",
   "metadata": {},
   "source": [
    "So this test supports the removal of 'Colour', 'Taste', 'pH' from our model."
   ]
  },
  {
   "cell_type": "markdown",
   "id": "8f01b1a5",
   "metadata": {},
   "source": [
    "#### Test 2: Anova"
   ]
  },
  {
   "cell_type": "markdown",
   "id": "d33a12e1",
   "metadata": {},
   "source": [
    "In statistics, an ANOVA is used to determine whether there is a statistically significant difference between the means of three or more independent groups."
   ]
  },
  {
   "cell_type": "code",
   "execution_count": 10,
   "id": "20d9d7ef",
   "metadata": {},
   "outputs": [
    {
     "data": {
      "text/html": [
       "<div>\n",
       "<style scoped>\n",
       "    .dataframe tbody tr th:only-of-type {\n",
       "        vertical-align: middle;\n",
       "    }\n",
       "\n",
       "    .dataframe tbody tr th {\n",
       "        vertical-align: top;\n",
       "    }\n",
       "\n",
       "    .dataframe thead th {\n",
       "        text-align: right;\n",
       "    }\n",
       "</style>\n",
       "<table border=\"1\" class=\"dataframe\">\n",
       "  <thead>\n",
       "    <tr style=\"text-align: right;\">\n",
       "      <th></th>\n",
       "      <th>features</th>\n",
       "      <th>scores</th>\n",
       "    </tr>\n",
       "  </thead>\n",
       "  <tbody>\n",
       "    <tr>\n",
       "      <th>4</th>\n",
       "      <td>Fat</td>\n",
       "      <td>274.612533</td>\n",
       "    </tr>\n",
       "    <tr>\n",
       "      <th>5</th>\n",
       "      <td>Turbidity</td>\n",
       "      <td>239.518365</td>\n",
       "    </tr>\n",
       "    <tr>\n",
       "      <th>1</th>\n",
       "      <td>Temprature</td>\n",
       "      <td>218.876159</td>\n",
       "    </tr>\n",
       "    <tr>\n",
       "      <th>3</th>\n",
       "      <td>Odor</td>\n",
       "      <td>167.424755</td>\n",
       "    </tr>\n",
       "    <tr>\n",
       "      <th>6</th>\n",
       "      <td>Colour</td>\n",
       "      <td>56.358174</td>\n",
       "    </tr>\n",
       "    <tr>\n",
       "      <th>2</th>\n",
       "      <td>Taste</td>\n",
       "      <td>26.440420</td>\n",
       "    </tr>\n",
       "    <tr>\n",
       "      <th>0</th>\n",
       "      <td>pH</td>\n",
       "      <td>0.751890</td>\n",
       "    </tr>\n",
       "  </tbody>\n",
       "</table>\n",
       "</div>"
      ],
      "text/plain": [
       "     features      scores\n",
       "4        Fat   274.612533\n",
       "5   Turbidity  239.518365\n",
       "1  Temprature  218.876159\n",
       "3        Odor  167.424755\n",
       "6      Colour   56.358174\n",
       "2       Taste   26.440420\n",
       "0          pH    0.751890"
      ]
     },
     "execution_count": 10,
     "metadata": {},
     "output_type": "execute_result"
    }
   ],
   "source": [
    "from sklearn.feature_selection import f_classif, SelectKBest\n",
    "f_best_col = SelectKBest(f_classif,k='all')\n",
    "kbest1 = f_best_col.fit_transform(x,y)\n",
    "pd.DataFrame(list(zip(df.drop(columns='Grade'),f_best_col.scores_)),columns=['features','scores']).sort_values(by='scores',ascending=False)"
   ]
  },
  {
   "cell_type": "markdown",
   "id": "62f2a80b",
   "metadata": {},
   "source": [
    "So this test supports the removal of 'Colour', 'Taste', 'pH' from our model."
   ]
  },
  {
   "cell_type": "markdown",
   "id": "639d730f",
   "metadata": {},
   "source": [
    "#### Test 3: Variance Threshold"
   ]
  },
  {
   "cell_type": "markdown",
   "id": "78f42255",
   "metadata": {},
   "source": [
    "To increse the score of the model we need a dataset that has high variance, so it will be good if we can select the features in the dataset which has variance more than a fixed threshold."
   ]
  },
  {
   "cell_type": "code",
   "execution_count": 11,
   "id": "0abbec2e",
   "metadata": {},
   "outputs": [],
   "source": [
    "# Turns 'Grade' column into numerical representations, since this function works with numbers.\n",
    "from sklearn.preprocessing import LabelEncoder\n",
    "encoder = LabelEncoder()\n",
    "df['Grade'] = encoder.fit_transform(df['Grade'])"
   ]
  },
  {
   "cell_type": "code",
   "execution_count": 12,
   "id": "8184106d",
   "metadata": {},
   "outputs": [
    {
     "data": {
      "text/plain": [
       "array([ True,  True, False, False, False, False,  True, False])"
      ]
     },
     "execution_count": 12,
     "metadata": {},
     "output_type": "execute_result"
    }
   ],
   "source": [
    "from sklearn.feature_selection import VarianceThreshold\n",
    "v = VarianceThreshold(threshold=1)\n",
    "v.fit_transform(df)\n",
    "v.get_support()"
   ]
  },
  {
   "cell_type": "code",
   "execution_count": 13,
   "id": "2482b58d",
   "metadata": {},
   "outputs": [
    {
     "data": {
      "text/plain": [
       "Index(['pH', 'Temprature', 'Taste', 'Odor', 'Fat ', 'Turbidity', 'Colour',\n",
       "       'Grade'],\n",
       "      dtype='object')"
      ]
     },
     "execution_count": 13,
     "metadata": {},
     "output_type": "execute_result"
    }
   ],
   "source": [
    "df.columns"
   ]
  },
  {
   "cell_type": "markdown",
   "id": "a48725f1",
   "metadata": {},
   "source": [
    "So this test supports the removal of 'pH', 'Temprature', 'Colour' from our model."
   ]
  },
  {
   "cell_type": "markdown",
   "id": "bff619cf",
   "metadata": {},
   "source": [
    "##### Therefore, through cross-validation of these tests, we will try making a model with parameters 'Temprature', 'Odor', 'Fat ', 'Turbidity', 'Taste'."
   ]
  },
  {
   "cell_type": "code",
   "execution_count": 14,
   "id": "cce65642",
   "metadata": {},
   "outputs": [],
   "source": [
    "x1 = df[['Temprature', 'Odor', 'Fat ', 'Turbidity', 'Taste']]\n",
    "y1 = df['Grade']\n",
    "x1_train, x1_test, y1_train, y1_test = train_test_split(x1,y1,test_size=0.20,random_state=0)"
   ]
  },
  {
   "cell_type": "markdown",
   "id": "ddbaaf1f",
   "metadata": {},
   "source": [
    "### Model Selection"
   ]
  },
  {
   "cell_type": "markdown",
   "id": "e57c33e9",
   "metadata": {},
   "source": [
    "Let's find which model provides the highest accuracy prediction, using: 1. our set of \"optimized\" variables, and 2. our set of all variables."
   ]
  },
  {
   "cell_type": "markdown",
   "id": "763eaaea",
   "metadata": {},
   "source": [
    "#### Model 1: Decision Tree Classifier"
   ]
  },
  {
   "cell_type": "code",
   "execution_count": 15,
   "id": "b10af508",
   "metadata": {},
   "outputs": [
    {
     "name": "stdout",
     "output_type": "stream",
     "text": [
      "[0.98449612 1.         1.         1.         0.9922179 ]\n",
      "Average Score (Old set): 0.9953428045727385\n"
     ]
    }
   ],
   "source": [
    "# Runs DecisionTreeClassifier on our old split:\n",
    "from sklearn.tree import DecisionTreeClassifier\n",
    "dtc = DecisionTreeClassifier()\n",
    "dtc.fit(x_train,y_train)\n",
    "y_pred = dtc.predict(x_test)\n",
    "\n",
    "# Tests model's performance on cv=5 number of folds (to ensure it's working in general, not just on one section)\n",
    "from sklearn.model_selection import cross_val_score\n",
    "cross_validation_scores = cross_val_score(dtc,x,y,cv=5)\n",
    "print(cross_validation_scores)\n",
    "print(\"Average Score (Old set):\", cross_validation_scores.mean())"
   ]
  },
  {
   "cell_type": "code",
   "execution_count": 16,
   "id": "85dbdd56",
   "metadata": {},
   "outputs": [
    {
     "name": "stdout",
     "output_type": "stream",
     "text": [
      "[0.9009434  0.91037736 0.90566038 0.89622642 0.88625592]\n",
      "Average Score (New set): 0.8998926942680855\n"
     ]
    }
   ],
   "source": [
    "# Runs DecisionTreeClassifier on our new train/test split:\n",
    "dtc = DecisionTreeClassifier()\n",
    "dtc.fit(x1_train,y1_train)\n",
    "y1_pred = dtc.predict(x1_test)\n",
    "cross_validation_scores = cross_val_score(dtc,x1,y1,cv=5)\n",
    "print(cross_validation_scores)\n",
    "print(\"Average Score (New set):\", cross_validation_scores.mean())"
   ]
  },
  {
   "cell_type": "markdown",
   "id": "10109c93",
   "metadata": {},
   "source": [
    "#### Model 2: SVM Classifier"
   ]
  },
  {
   "cell_type": "code",
   "execution_count": 17,
   "id": "8ce87958",
   "metadata": {},
   "outputs": [
    {
     "name": "stdout",
     "output_type": "stream",
     "text": [
      "[0.82170543 0.77131783 0.84824903 0.77821012 0.80155642]\n",
      "Average Score (Old set): 0.8042077640032577\n"
     ]
    }
   ],
   "source": [
    "from sklearn.svm import SVC\n",
    "svm_model_linear = SVC(kernel = 'linear', C = 1).fit(x_train, y_train)\n",
    "y_pred = svm_model_linear.predict(x_test)\n",
    "  \n",
    "cross_validation_scores = cross_val_score(svm_model_linear,x,y,cv=5)\n",
    "print(cross_validation_scores)\n",
    "print(\"Average Score (Old set):\", cross_validation_scores.mean())"
   ]
  },
  {
   "cell_type": "code",
   "execution_count": 18,
   "id": "21f88ab3",
   "metadata": {},
   "outputs": [
    {
     "name": "stdout",
     "output_type": "stream",
     "text": [
      "[0.74528302 0.70754717 0.75       0.69811321 0.71090047]\n",
      "Average Score (New set): 0.7223687740320128\n"
     ]
    }
   ],
   "source": [
    "svm_model_linear = SVC(kernel = 'linear', C = 1).fit(x1_train, y1_train)\n",
    "y1_pred = svm_model_linear.predict(x1_test)\n",
    "  \n",
    "cross_validation_scores = cross_val_score(svm_model_linear,x1,y1,cv=5)\n",
    "print(cross_validation_scores)\n",
    "print(\"Average Score (New set):\", cross_validation_scores.mean())"
   ]
  },
  {
   "cell_type": "markdown",
   "id": "9d883870",
   "metadata": {},
   "source": [
    "#### Model 3: K-Nearest-Neighbors Classifier"
   ]
  },
  {
   "cell_type": "code",
   "execution_count": 19,
   "id": "e3f14e4c",
   "metadata": {},
   "outputs": [
    {
     "name": "stdout",
     "output_type": "stream",
     "text": [
      "[0.99612403 1.         0.98832685 0.99610895 0.9844358 ]\n",
      "Average Score (Old set): 0.9929991252676983\n"
     ]
    }
   ],
   "source": [
    "from sklearn.neighbors import KNeighborsClassifier\n",
    "knn = KNeighborsClassifier(n_neighbors = 7).fit(x_train, y_train)\n",
    "\n",
    "cross_validation_scores = cross_val_score(knn,x,y,cv=5)\n",
    "print(cross_validation_scores)\n",
    "print(\"Average Score (Old set):\", cross_validation_scores.mean())"
   ]
  },
  {
   "cell_type": "code",
   "execution_count": 20,
   "id": "3fbd1ff8",
   "metadata": {},
   "outputs": [
    {
     "name": "stdout",
     "output_type": "stream",
     "text": [
      "[0.91037736 0.91037736 0.90566038 0.9009434  0.86255924]\n",
      "Average Score (New set): 0.8979835464544397\n"
     ]
    }
   ],
   "source": [
    "knn = KNeighborsClassifier(n_neighbors = 7).fit(x1_train, y1_train)\n",
    "\n",
    "cross_validation_scores = cross_val_score(knn,x1,y1,cv=5)\n",
    "print(cross_validation_scores)\n",
    "print(\"Average Score (New set):\", cross_validation_scores.mean())"
   ]
  },
  {
   "cell_type": "markdown",
   "id": "9fcb7cca",
   "metadata": {},
   "source": [
    "#### Model 4: Naive Bayes Classifier"
   ]
  },
  {
   "cell_type": "markdown",
   "id": "e1a15e32",
   "metadata": {},
   "source": [
    "(Assumes independence between the variables)"
   ]
  },
  {
   "cell_type": "code",
   "execution_count": 21,
   "id": "63c2e2f0",
   "metadata": {},
   "outputs": [
    {
     "name": "stdout",
     "output_type": "stream",
     "text": [
      "[0.8372093  0.91472868 0.90272374 0.92996109 0.87159533]\n",
      "Average Score (Old set): 0.8912436280276296\n"
     ]
    }
   ],
   "source": [
    "from sklearn.naive_bayes import GaussianNB\n",
    "gnb = GaussianNB().fit(x_train, y_train)\n",
    "gnb_predictions = gnb.predict(x_test)\n",
    "  \n",
    "cross_validation_scores = cross_val_score(gnb,x,y,cv=5)\n",
    "print(cross_validation_scores)\n",
    "print(\"Average Score (Old set):\", cross_validation_scores.mean())"
   ]
  },
  {
   "cell_type": "code",
   "execution_count": 22,
   "id": "8e27fd3a",
   "metadata": {},
   "outputs": [
    {
     "name": "stdout",
     "output_type": "stream",
     "text": [
      "[0.58962264 0.63207547 0.74056604 0.60377358 0.67772512]\n",
      "Average Score (New set): 0.6487525708664938\n"
     ]
    }
   ],
   "source": [
    "gnb = GaussianNB().fit(x1_train, y1_train)\n",
    "gnb_predictions = gnb.predict(x1_test)\n",
    "  \n",
    "cross_validation_scores = cross_val_score(gnb,x1,y1,cv=5)\n",
    "print(cross_validation_scores)\n",
    "print(\"Average Score (New set):\", cross_validation_scores.mean())"
   ]
  },
  {
   "cell_type": "markdown",
   "id": "5e8a02c0",
   "metadata": {},
   "source": [
    "#### Model 5: Logistic Regression"
   ]
  },
  {
   "cell_type": "code",
   "execution_count": 36,
   "id": "62ca4f3d",
   "metadata": {},
   "outputs": [
    {
     "name": "stdout",
     "output_type": "stream",
     "text": [
      "[0.86821705 0.84108527 0.87937743 0.83657588 0.85992218]\n",
      "0.8570355623925436\n"
     ]
    }
   ],
   "source": [
    "from sklearn.linear_model import LogisticRegression\n",
    "lgr = LogisticRegression()\n",
    "lgr.fit(x_train, y_train)\n",
    "y_pred = lgr.predict(x_test)\n",
    "\n",
    "cvs = cross_val_score(lgr,x,y,cv=5)\n",
    "print(cvs)\n",
    "print(cvs.mean())"
   ]
  },
  {
   "cell_type": "code",
   "execution_count": 37,
   "id": "9ff2531e",
   "metadata": {},
   "outputs": [
    {
     "name": "stderr",
     "output_type": "stream",
     "text": [
      "C:\\Users\\ryvo1\\anaconda3\\envs\\PIC16B\\lib\\site-packages\\sklearn\\linear_model\\_logistic.py:814: ConvergenceWarning: lbfgs failed to converge (status=1):\n",
      "STOP: TOTAL NO. of ITERATIONS REACHED LIMIT.\n",
      "\n",
      "Increase the number of iterations (max_iter) or scale the data as shown in:\n",
      "    https://scikit-learn.org/stable/modules/preprocessing.html\n",
      "Please also refer to the documentation for alternative solver options:\n",
      "    https://scikit-learn.org/stable/modules/linear_model.html#logistic-regression\n",
      "  n_iter_i = _check_optimize_result(\n",
      "C:\\Users\\ryvo1\\anaconda3\\envs\\PIC16B\\lib\\site-packages\\sklearn\\linear_model\\_logistic.py:814: ConvergenceWarning: lbfgs failed to converge (status=1):\n",
      "STOP: TOTAL NO. of ITERATIONS REACHED LIMIT.\n",
      "\n",
      "Increase the number of iterations (max_iter) or scale the data as shown in:\n",
      "    https://scikit-learn.org/stable/modules/preprocessing.html\n",
      "Please also refer to the documentation for alternative solver options:\n",
      "    https://scikit-learn.org/stable/modules/linear_model.html#logistic-regression\n",
      "  n_iter_i = _check_optimize_result(\n",
      "C:\\Users\\ryvo1\\anaconda3\\envs\\PIC16B\\lib\\site-packages\\sklearn\\linear_model\\_logistic.py:814: ConvergenceWarning: lbfgs failed to converge (status=1):\n",
      "STOP: TOTAL NO. of ITERATIONS REACHED LIMIT.\n",
      "\n",
      "Increase the number of iterations (max_iter) or scale the data as shown in:\n",
      "    https://scikit-learn.org/stable/modules/preprocessing.html\n",
      "Please also refer to the documentation for alternative solver options:\n",
      "    https://scikit-learn.org/stable/modules/linear_model.html#logistic-regression\n",
      "  n_iter_i = _check_optimize_result(\n",
      "C:\\Users\\ryvo1\\anaconda3\\envs\\PIC16B\\lib\\site-packages\\sklearn\\linear_model\\_logistic.py:814: ConvergenceWarning: lbfgs failed to converge (status=1):\n",
      "STOP: TOTAL NO. of ITERATIONS REACHED LIMIT.\n",
      "\n",
      "Increase the number of iterations (max_iter) or scale the data as shown in:\n",
      "    https://scikit-learn.org/stable/modules/preprocessing.html\n",
      "Please also refer to the documentation for alternative solver options:\n",
      "    https://scikit-learn.org/stable/modules/linear_model.html#logistic-regression\n",
      "  n_iter_i = _check_optimize_result(\n",
      "C:\\Users\\ryvo1\\anaconda3\\envs\\PIC16B\\lib\\site-packages\\sklearn\\linear_model\\_logistic.py:814: ConvergenceWarning: lbfgs failed to converge (status=1):\n",
      "STOP: TOTAL NO. of ITERATIONS REACHED LIMIT.\n",
      "\n",
      "Increase the number of iterations (max_iter) or scale the data as shown in:\n",
      "    https://scikit-learn.org/stable/modules/preprocessing.html\n",
      "Please also refer to the documentation for alternative solver options:\n",
      "    https://scikit-learn.org/stable/modules/linear_model.html#logistic-regression\n",
      "  n_iter_i = _check_optimize_result(\n"
     ]
    },
    {
     "name": "stdout",
     "output_type": "stream",
     "text": [
      "[0.73584906 0.73584906 0.75471698 0.71698113 0.73933649]\n",
      "0.7365465438612179\n"
     ]
    },
    {
     "name": "stderr",
     "output_type": "stream",
     "text": [
      "C:\\Users\\ryvo1\\anaconda3\\envs\\PIC16B\\lib\\site-packages\\sklearn\\linear_model\\_logistic.py:814: ConvergenceWarning: lbfgs failed to converge (status=1):\n",
      "STOP: TOTAL NO. of ITERATIONS REACHED LIMIT.\n",
      "\n",
      "Increase the number of iterations (max_iter) or scale the data as shown in:\n",
      "    https://scikit-learn.org/stable/modules/preprocessing.html\n",
      "Please also refer to the documentation for alternative solver options:\n",
      "    https://scikit-learn.org/stable/modules/linear_model.html#logistic-regression\n",
      "  n_iter_i = _check_optimize_result(\n"
     ]
    }
   ],
   "source": [
    "lgr = LogisticRegression()\n",
    "lgr.fit(x1_train, y1_train)\n",
    "y_pred = lgr.predict(x1_test)\n",
    "\n",
    "cvs = cross_val_score(lgr,x1,y1,cv=5)\n",
    "print(cvs)\n",
    "print(cvs.mean())"
   ]
  },
  {
   "cell_type": "markdown",
   "id": "6fcfc1ee",
   "metadata": {},
   "source": [
    "#### Model 6: Random Forest Classifier"
   ]
  },
  {
   "cell_type": "code",
   "execution_count": 23,
   "id": "e3dc99e7",
   "metadata": {},
   "outputs": [
    {
     "name": "stdout",
     "output_type": "stream",
     "text": [
      "[0.99224806 1.         1.         1.         0.9922179 ]\n",
      "Average Score (Old set): 0.9968931921696378\n"
     ]
    }
   ],
   "source": [
    "from sklearn.ensemble import RandomForestClassifier\n",
    "rfc = RandomForestClassifier()\n",
    "rfc.fit(x_train, y_train)\n",
    "y_pred = rfc.predict(x_test)\n",
    "\n",
    "cross_validation_scores = cross_val_score(rfc,x,y,cv=5)\n",
    "print(cross_validation_scores)\n",
    "print(\"Average Score (Old set):\", cross_validation_scores.mean())"
   ]
  },
  {
   "cell_type": "code",
   "execution_count": 24,
   "id": "beb3fd22",
   "metadata": {},
   "outputs": [
    {
     "name": "stdout",
     "output_type": "stream",
     "text": [
      "[0.89622642 0.91037736 0.90566038 0.89622642 0.8957346 ]\n",
      "Average Score (New set): 0.9008450326388268\n"
     ]
    }
   ],
   "source": [
    "rfc = RandomForestClassifier()\n",
    "rfc.fit(x1_train,y1_train)\n",
    "y1_pred = rfc.predict(x1_test)\n",
    "\n",
    "cross_validation_scores = cross_val_score(rfc,x1,y1,cv=5)\n",
    "print(cross_validation_scores)\n",
    "print(\"Average Score (New set):\", cross_validation_scores.mean())"
   ]
  },
  {
   "cell_type": "markdown",
   "id": "7ca81bfb",
   "metadata": {},
   "source": [
    "The best score comes from our Random Forest Classifier model. The original set of variables provided better scores for all six models."
   ]
  },
  {
   "cell_type": "markdown",
   "id": "62af98f1",
   "metadata": {},
   "source": [
    "### Hyperparameter Tuning"
   ]
  },
  {
   "cell_type": "markdown",
   "id": "a26a02b5",
   "metadata": {},
   "source": [
    "To ensure we are actually getting the best possible scores from our models, we will conduct hyperparameter tuning. \n",
    "\n",
    "This will show us if our set of all variables make for properly tuned hyperparameters."
   ]
  },
  {
   "cell_type": "code",
   "execution_count": 126,
   "id": "f1aa5fa6",
   "metadata": {},
   "outputs": [
    {
     "data": {
      "text/plain": [
       "GridSearchCV(cv=5, estimator=RandomForestClassifier(max_depth=9),\n",
       "             param_grid={'criterion': ['gini', 'entropy'],\n",
       "                         'max_depth': range(1, 10)})"
      ]
     },
     "execution_count": 126,
     "metadata": {},
     "output_type": "execute_result"
    }
   ],
   "source": [
    "param_dict = {\n",
    "    \"criterion\":['gini','entropy'],\n",
    "    \"max_depth\":range(1,10)\n",
    "}\n",
    "from sklearn.model_selection import GridSearchCV\n",
    "grid = GridSearchCV(rfc,param_grid=param_dict,cv=5)\n",
    "grid.fit(x_train,y_train)"
   ]
  },
  {
   "cell_type": "code",
   "execution_count": 127,
   "id": "1c27562e",
   "metadata": {},
   "outputs": [
    {
     "data": {
      "text/plain": [
       "{'criterion': 'gini', 'max_depth': 6}"
      ]
     },
     "execution_count": 127,
     "metadata": {},
     "output_type": "execute_result"
    }
   ],
   "source": [
    "grid.best_params_"
   ]
  },
  {
   "cell_type": "code",
   "execution_count": 128,
   "id": "d690ff6c",
   "metadata": {},
   "outputs": [
    {
     "data": {
      "text/plain": [
       "0.9990291262135923"
      ]
     },
     "execution_count": 128,
     "metadata": {},
     "output_type": "execute_result"
    }
   ],
   "source": [
    "grid.best_score_"
   ]
  },
  {
   "cell_type": "markdown",
   "id": "43aaab6e",
   "metadata": {},
   "source": [
    "Then, we have a highest accuracy of 99.9% via hyperparameter tuning. Applying these parameters to our current RandomForestClassifier gives:"
   ]
  },
  {
   "cell_type": "code",
   "execution_count": 137,
   "id": "685dde90",
   "metadata": {
    "scrolled": true
   },
   "outputs": [
    {
     "name": "stdout",
     "output_type": "stream",
     "text": [
      "              precision    recall  f1-score   support\n",
      "\n",
      "        high       0.99      0.99      0.99        93\n",
      "         low       1.00      0.98      0.99        87\n",
      "      medium       0.97      1.00      0.99        78\n",
      "\n",
      "    accuracy                           0.99       258\n",
      "   macro avg       0.99      0.99      0.99       258\n",
      "weighted avg       0.99      0.99      0.99       258\n",
      "\n",
      "[0.99224806 1.         1.         1.         0.9922179 ]\n",
      "0.9968931921696378\n"
     ]
    }
   ],
   "source": [
    "rfc = RandomForestClassifier(criterion='gini',max_depth=6)\n",
    "rfc.fit(x_train,y_train)\n",
    "y_pred = rfc.predict(x_test)\n",
    "\n",
    "cvsr = cross_val_score(rfc,x,y,cv=5)\n",
    "\n",
    "print(classification_report(y_test,yr_pred))\n",
    "\n",
    "print(cvsr)\n",
    "print(cvsr.mean())"
   ]
  },
  {
   "cell_type": "markdown",
   "id": "fad2a567",
   "metadata": {},
   "source": [
    "As we can see, applying the best parameters provides a similarly strong precision score, and since our recall and f1-scores aren't too disparate, we have conclusively created a very strong model to predict milk grade using RandomForestClassifier."
   ]
  },
  {
   "cell_type": "markdown",
   "id": "cb0c6b49",
   "metadata": {},
   "source": [
    "# Summary and comments"
   ]
  },
  {
   "cell_type": "markdown",
   "id": "90de65aa",
   "metadata": {},
   "source": [
    "In this project, I have:\n",
    "\n",
    "- Imported a dataset of milk attributes and grade from https://www.kaggle.com/datasets/cpluzshrijayan/milkquality and converted it to a dataframe\n",
    "- Prepared the data to perform a train/test split\n",
    "- Cross-validated feature selection tests to find the strongest predicting features of milk grade\n",
    "- Ran the most optimal possible sets of data through several appropriate ML models\n",
    "- Conducted Hyperparameter tuning to ensure the selected features were indeed optimal\n",
    "- Ended up with an accurate predictor of milk grade"
   ]
  },
  {
   "cell_type": "markdown",
   "id": "7c195584",
   "metadata": {},
   "source": [
    "This project was unique in that all of my models performed better when using all of the possible variables as hyperparameters, and the accuracy was higher than I'd usually expect. I'd chalk this up to the dataset, as similar projects of mine (such as this one: https://github.com/ryanvoda/Penguins-Project/blob/main/PenguinProjectWalkthrough.ipynb)."
   ]
  }
 ],
 "metadata": {
  "kernelspec": {
   "display_name": "Python [conda env:PIC16B] *",
   "language": "python",
   "name": "conda-env-PIC16B-py"
  },
  "language_info": {
   "codemirror_mode": {
    "name": "ipython",
    "version": 3
   },
   "file_extension": ".py",
   "mimetype": "text/x-python",
   "name": "python",
   "nbconvert_exporter": "python",
   "pygments_lexer": "ipython3",
   "version": "3.8.13"
  }
 },
 "nbformat": 4,
 "nbformat_minor": 5
}
